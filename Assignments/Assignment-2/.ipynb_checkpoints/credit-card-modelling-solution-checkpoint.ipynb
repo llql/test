{
 "cells": [
  {
   "cell_type": "markdown",
   "metadata": {},
   "source": [
    "# 机器学习集训营机器学习项目作业-参考答案\n",
    "#### 参考答案说明:\n",
    "\n",
    "- 使用：该答案仅供参考，非唯一固定答案，欢迎同学批评，指正。"
   ]
  },
  {
   "cell_type": "markdown",
   "metadata": {},
   "source": [
    "## 信用卡欺诈项目(共7项，前5项每题12分，6、7题每题20分)"
   ]
  },
  {
   "cell_type": "markdown",
   "metadata": {},
   "source": [
    " ### 前期数据导入，数据预览及基本处理(此部分勿修改，涉及的数据文件无需复制移动)"
   ]
  },
  {
   "cell_type": "code",
   "execution_count": 6,
   "metadata": {
    "ExecuteTime": {
     "end_time": "2019-03-19T03:27:51.453495Z",
     "start_time": "2019-03-19T03:27:51.195551Z"
    },
    "scrolled": true
   },
   "outputs": [
    {
     "data": {
      "text/html": [
       "<div>\n",
       "<style scoped>\n",
       "    .dataframe tbody tr th:only-of-type {\n",
       "        vertical-align: middle;\n",
       "    }\n",
       "\n",
       "    .dataframe tbody tr th {\n",
       "        vertical-align: top;\n",
       "    }\n",
       "\n",
       "    .dataframe thead th {\n",
       "        text-align: right;\n",
       "    }\n",
       "</style>\n",
       "<table border=\"1\" class=\"dataframe\">\n",
       "  <thead>\n",
       "    <tr style=\"text-align: right;\">\n",
       "      <th></th>\n",
       "      <th>SeriousDlqin2yrs</th>\n",
       "      <th>RevolvingUtilizationOfUnsecuredLines</th>\n",
       "      <th>age</th>\n",
       "      <th>NumberOfTime30-59DaysPastDueNotWorse</th>\n",
       "      <th>DebtRatio</th>\n",
       "      <th>MonthlyIncome</th>\n",
       "      <th>NumberOfOpenCreditLinesAndLoans</th>\n",
       "      <th>NumberOfTimes90DaysLate</th>\n",
       "      <th>NumberRealEstateLoansOrLines</th>\n",
       "      <th>NumberOfTime60-89DaysPastDueNotWorse</th>\n",
       "      <th>NumberOfDependents</th>\n",
       "    </tr>\n",
       "  </thead>\n",
       "  <tbody>\n",
       "    <tr>\n",
       "      <th>0</th>\n",
       "      <td>1</td>\n",
       "      <td>0.766127</td>\n",
       "      <td>45.0</td>\n",
       "      <td>2.0</td>\n",
       "      <td>0.802982</td>\n",
       "      <td>9120.0</td>\n",
       "      <td>13.0</td>\n",
       "      <td>0.0</td>\n",
       "      <td>6.0</td>\n",
       "      <td>0.0</td>\n",
       "      <td>2.0</td>\n",
       "    </tr>\n",
       "    <tr>\n",
       "      <th>1</th>\n",
       "      <td>0</td>\n",
       "      <td>0.957151</td>\n",
       "      <td>40.0</td>\n",
       "      <td>0.0</td>\n",
       "      <td>0.121876</td>\n",
       "      <td>2600.0</td>\n",
       "      <td>4.0</td>\n",
       "      <td>0.0</td>\n",
       "      <td>0.0</td>\n",
       "      <td>0.0</td>\n",
       "      <td>1.0</td>\n",
       "    </tr>\n",
       "    <tr>\n",
       "      <th>2</th>\n",
       "      <td>0</td>\n",
       "      <td>0.658180</td>\n",
       "      <td>38.0</td>\n",
       "      <td>1.0</td>\n",
       "      <td>0.085113</td>\n",
       "      <td>3042.0</td>\n",
       "      <td>2.0</td>\n",
       "      <td>1.0</td>\n",
       "      <td>0.0</td>\n",
       "      <td>0.0</td>\n",
       "      <td>0.0</td>\n",
       "    </tr>\n",
       "    <tr>\n",
       "      <th>3</th>\n",
       "      <td>0</td>\n",
       "      <td>0.233810</td>\n",
       "      <td>30.0</td>\n",
       "      <td>0.0</td>\n",
       "      <td>0.036050</td>\n",
       "      <td>3300.0</td>\n",
       "      <td>5.0</td>\n",
       "      <td>0.0</td>\n",
       "      <td>0.0</td>\n",
       "      <td>0.0</td>\n",
       "      <td>0.0</td>\n",
       "    </tr>\n",
       "    <tr>\n",
       "      <th>4</th>\n",
       "      <td>0</td>\n",
       "      <td>0.907239</td>\n",
       "      <td>49.0</td>\n",
       "      <td>1.0</td>\n",
       "      <td>0.024926</td>\n",
       "      <td>63588.0</td>\n",
       "      <td>7.0</td>\n",
       "      <td>0.0</td>\n",
       "      <td>1.0</td>\n",
       "      <td>0.0</td>\n",
       "      <td>0.0</td>\n",
       "    </tr>\n",
       "  </tbody>\n",
       "</table>\n",
       "</div>"
      ],
      "text/plain": [
       "   SeriousDlqin2yrs  RevolvingUtilizationOfUnsecuredLines   age  \\\n",
       "0                 1                              0.766127  45.0   \n",
       "1                 0                              0.957151  40.0   \n",
       "2                 0                              0.658180  38.0   \n",
       "3                 0                              0.233810  30.0   \n",
       "4                 0                              0.907239  49.0   \n",
       "\n",
       "   NumberOfTime30-59DaysPastDueNotWorse  DebtRatio  MonthlyIncome  \\\n",
       "0                                   2.0   0.802982         9120.0   \n",
       "1                                   0.0   0.121876         2600.0   \n",
       "2                                   1.0   0.085113         3042.0   \n",
       "3                                   0.0   0.036050         3300.0   \n",
       "4                                   1.0   0.024926        63588.0   \n",
       "\n",
       "   NumberOfOpenCreditLinesAndLoans  NumberOfTimes90DaysLate  \\\n",
       "0                             13.0                      0.0   \n",
       "1                              4.0                      0.0   \n",
       "2                              2.0                      1.0   \n",
       "3                              5.0                      0.0   \n",
       "4                              7.0                      0.0   \n",
       "\n",
       "   NumberRealEstateLoansOrLines  NumberOfTime60-89DaysPastDueNotWorse  \\\n",
       "0                           6.0                                   0.0   \n",
       "1                           0.0                                   0.0   \n",
       "2                           0.0                                   0.0   \n",
       "3                           0.0                                   0.0   \n",
       "4                           1.0                                   0.0   \n",
       "\n",
       "   NumberOfDependents  \n",
       "0                 2.0  \n",
       "1                 1.0  \n",
       "2                 0.0  \n",
       "3                 0.0  \n",
       "4                 0.0  "
      ]
     },
     "execution_count": 6,
     "metadata": {},
     "output_type": "execute_result"
    }
   ],
   "source": [
    "import pandas as pd\n",
    "pd.set_option('display.max_columns', 500)\n",
    "import zipfile\n",
    "with zipfile.ZipFile('KaggleCredit2.csv.zip', 'r') as z:\n",
    "    f = z.open('KaggleCredit2.csv')\n",
    "    data = pd.read_csv(f, index_col=0)\n",
    "data.head()"
   ]
  },
  {
   "cell_type": "markdown",
   "metadata": {},
   "source": [
    "#### 查看数据的维度\n",
    "tips：shape和info等属性和函数可以帮助大家了解DataFrame的维度信息。"
   ]
  },
  {
   "cell_type": "code",
   "execution_count": 7,
   "metadata": {
    "ExecuteTime": {
     "end_time": "2019-03-19T03:27:54.521513Z",
     "start_time": "2019-03-19T03:27:54.516639Z"
    }
   },
   "outputs": [
    {
     "data": {
      "text/plain": [
       "(112915, 11)"
      ]
     },
     "execution_count": 7,
     "metadata": {},
     "output_type": "execute_result"
    }
   ],
   "source": [
    "data.shape"
   ]
  },
  {
   "cell_type": "markdown",
   "metadata": {},
   "source": [
    "#### 查看数据中不同字段缺失值情况\n",
    "tips：isnull函数可以做一些判断"
   ]
  },
  {
   "cell_type": "code",
   "execution_count": 8,
   "metadata": {
    "ExecuteTime": {
     "end_time": "2019-03-19T03:27:55.249641Z",
     "start_time": "2019-03-19T03:27:55.220866Z"
    },
    "scrolled": true
   },
   "outputs": [
    {
     "data": {
      "text/plain": [
       "SeriousDlqin2yrs                           0\n",
       "RevolvingUtilizationOfUnsecuredLines       0\n",
       "age                                     4267\n",
       "NumberOfTime30-59DaysPastDueNotWorse       0\n",
       "DebtRatio                                  0\n",
       "MonthlyIncome                              0\n",
       "NumberOfOpenCreditLinesAndLoans            0\n",
       "NumberOfTimes90DaysLate                    0\n",
       "NumberRealEstateLoansOrLines               0\n",
       "NumberOfTime60-89DaysPastDueNotWorse       0\n",
       "NumberOfDependents                      4267\n",
       "dtype: int64"
      ]
     },
     "execution_count": 8,
     "metadata": {},
     "output_type": "execute_result"
    }
   ],
   "source": [
    "data.isnull().sum(axis=0)"
   ]
  },
  {
   "cell_type": "markdown",
   "metadata": {},
   "source": [
    "#### 剔除缺失值部分"
   ]
  },
  {
   "cell_type": "code",
   "execution_count": 9,
   "metadata": {
    "ExecuteTime": {
     "end_time": "2019-03-19T03:27:56.135034Z",
     "start_time": "2019-03-19T03:27:56.092321Z"
    }
   },
   "outputs": [
    {
     "name": "stderr",
     "output_type": "stream",
     "text": [
      "/usr/local/lib/python3.5/dist-packages/ipykernel_launcher.py:2: UserWarning: Pandas doesn't allow columns to be created via a new attribute name - see https://pandas.pydata.org/pandas-docs/stable/indexing.html#attribute-access\n",
      "  \n"
     ]
    }
   ],
   "source": [
    "data.dropna(inplace=True)\n",
    "data.loc[:,'shapey'] = data['SeriousDlqin2yrs']\n",
    "X = data.drop('SeriousDlqin2yrs', axis=1)"
   ]
  },
  {
   "cell_type": "markdown",
   "metadata": {},
   "source": [
    "#### 取出特征X和标签y"
   ]
  },
  {
   "cell_type": "code",
   "execution_count": 10,
   "metadata": {
    "ExecuteTime": {
     "end_time": "2019-03-19T03:27:57.637982Z",
     "start_time": "2019-03-19T03:27:57.625108Z"
    }
   },
   "outputs": [
    {
     "data": {
      "text/plain": [
       "0.06742876076872101"
      ]
     },
     "execution_count": 10,
     "metadata": {},
     "output_type": "execute_result"
    }
   ],
   "source": [
    "y = data['SeriousDlqin2yrs']\n",
    "X = data.drop('SeriousDlqin2yrs', axis=1)\n",
    "y.mean()"
   ]
  },
  {
   "cell_type": "code",
   "execution_count": 11,
   "metadata": {
    "ExecuteTime": {
     "end_time": "2019-03-19T03:27:58.273070Z",
     "start_time": "2019-03-19T03:27:58.247052Z"
    }
   },
   "outputs": [
    {
     "name": "stdout",
     "output_type": "stream",
     "text": [
      "<class 'pandas.core.frame.DataFrame'>\n",
      "Int64Index: 108648 entries, 0 to 112914\n",
      "Data columns (total 10 columns):\n",
      "RevolvingUtilizationOfUnsecuredLines    108648 non-null float64\n",
      "age                                     108648 non-null float64\n",
      "NumberOfTime30-59DaysPastDueNotWorse    108648 non-null float64\n",
      "DebtRatio                               108648 non-null float64\n",
      "MonthlyIncome                           108648 non-null float64\n",
      "NumberOfOpenCreditLinesAndLoans         108648 non-null float64\n",
      "NumberOfTimes90DaysLate                 108648 non-null float64\n",
      "NumberRealEstateLoansOrLines            108648 non-null float64\n",
      "NumberOfTime60-89DaysPastDueNotWorse    108648 non-null float64\n",
      "NumberOfDependents                      108648 non-null float64\n",
      "dtypes: float64(10)\n",
      "memory usage: 9.1 MB\n"
     ]
    }
   ],
   "source": [
    "X.info()"
   ]
  },
  {
   "cell_type": "markdown",
   "metadata": {
    "collapsed": true
   },
   "source": [
    "### 1.把数据切分成训练集和测试集\n",
    "tips : train_test_split函数的使用"
   ]
  },
  {
   "cell_type": "code",
   "execution_count": 12,
   "metadata": {
    "ExecuteTime": {
     "end_time": "2019-03-19T03:28:00.114260Z",
     "start_time": "2019-03-19T03:27:59.795708Z"
    }
   },
   "outputs": [
    {
     "name": "stdout",
     "output_type": "stream",
     "text": [
      "(76053, 10) (32595, 10) (76053,) (32595,)\n"
     ]
    }
   ],
   "source": [
    "from sklearn.model_selection import train_test_split \n",
    "\n",
    "train_x,test_x,train_y,test_y  = train_test_split(X,y,test_size=0.3)\n",
    "print(train_x.shape,test_x.shape,train_y.shape,test_y.shape,)"
   ]
  },
  {
   "cell_type": "markdown",
   "metadata": {},
   "source": [
    "### 2.使用logistic regression建模，并且输出一下系数，分析重要度。  \n",
    "tips : 建模完成后，模型对象有很多的属性，其中包含系数(coef)"
   ]
  },
  {
   "cell_type": "code",
   "execution_count": 13,
   "metadata": {
    "ExecuteTime": {
     "end_time": "2019-03-19T03:28:06.870324Z",
     "start_time": "2019-03-19T03:28:06.226580Z"
    }
   },
   "outputs": [
    {
     "name": "stderr",
     "output_type": "stream",
     "text": [
      "/usr/local/lib/python3.5/dist-packages/sklearn/linear_model/logistic.py:433: FutureWarning: Default solver will be changed to 'lbfgs' in 0.22. Specify a solver to silence this warning.\n",
      "  FutureWarning)\n"
     ]
    },
    {
     "name": "stdout",
     "output_type": "stream",
     "text": [
      "<bound method BaseEstimator.get_params of LogisticRegression(C=1.0, class_weight=None, dual=False, fit_intercept=True,\n",
      "          intercept_scaling=1, max_iter=100, multi_class='warn',\n",
      "          n_jobs=None, penalty='l2', random_state=None, solver='warn',\n",
      "          tol=0.0001, verbose=0, warm_start=False)> [[-7.41198489e-05 -4.65370426e-02  5.41309651e-02  7.74349648e-03\n",
      "  -5.27407637e-05 -9.24792024e-03  1.95260092e-02  5.84015678e-03\n",
      "  -3.47453136e-02  2.67077217e-02]] [-0.01900325]\n"
     ]
    }
   ],
   "source": [
    "from sklearn.linear_model import LogisticRegression\n",
    "lr = LogisticRegression()\n",
    "lr.fit(train_x,train_y)\n",
    "lr.predict(test_x)\n",
    "print(lr.get_params,lr.coef_,lr.intercept_)"
   ]
  },
  {
   "cell_type": "markdown",
   "metadata": {},
   "source": [
    "### 3.使用决策树/SVM/KNN...等sklearn分类算法进行分类，尝试了解参数含义，调整不同的参数。"
   ]
  },
  {
   "cell_type": "code",
   "execution_count": 14,
   "metadata": {
    "ExecuteTime": {
     "end_time": "2019-03-19T03:28:07.950594Z",
     "start_time": "2019-03-19T03:28:07.599807Z"
    }
   },
   "outputs": [
    {
     "data": {
      "text/plain": [
       "DecisionTreeClassifier(class_weight=None, criterion='gini', max_depth=5,\n",
       "            max_features=None, max_leaf_nodes=None,\n",
       "            min_impurity_decrease=0.0, min_impurity_split=None,\n",
       "            min_samples_leaf=1, min_samples_split=2,\n",
       "            min_weight_fraction_leaf=0.0, presort=False, random_state=0,\n",
       "            splitter='best')"
      ]
     },
     "execution_count": 14,
     "metadata": {},
     "output_type": "execute_result"
    }
   ],
   "source": [
    "# 决策树\n",
    "from sklearn.tree import DecisionTreeClassifier\n",
    "# 参数 \n",
    "#  criterion：树结点分裂标准，可选Gini/entropy\n",
    "#  max_depth：树的最大深度\n",
    "#  random_state：The minimum number of samples required to split an internal node\n",
    "tree = DecisionTreeClassifier(criterion='entropy', max_depth=3, random_state=0)\n",
    "tree.fit(train_x, train_y)\n",
    "\n",
    "#default CART\n",
    "tree_Gini = DecisionTreeClassifier(max_depth=5, random_state=0)\n",
    "tree_Gini.fit(train_x, train_y)\n"
   ]
  },
  {
   "cell_type": "code",
   "execution_count": 15,
   "metadata": {
    "ExecuteTime": {
     "end_time": "2019-03-19T03:28:42.861833Z",
     "start_time": "2019-03-19T03:28:08.664301Z"
    }
   },
   "outputs": [
    {
     "name": "stderr",
     "output_type": "stream",
     "text": [
      "/usr/local/lib/python3.5/dist-packages/sklearn/svm/base.py:196: FutureWarning: The default value of gamma will change from 'auto' to 'scale' in version 0.22 to account better for unscaled features. Set gamma explicitly to 'auto' or 'scale' to avoid this warning.\n",
      "  \"avoid this warning.\", FutureWarning)\n"
     ]
    },
    {
     "data": {
      "text/plain": [
       "SVC(C=2.0, cache_size=200, class_weight=None, coef0=0.0,\n",
       "  decision_function_shape='ovr', degree=3, gamma='auto_deprecated',\n",
       "  kernel='rbf', max_iter=-1, probability=False, random_state=0,\n",
       "  shrinking=True, tol=0.001, verbose=False)"
      ]
     },
     "execution_count": 15,
     "metadata": {},
     "output_type": "execute_result"
    }
   ],
   "source": [
    "# SVM\n",
    "from sklearn.svm import SVC\n",
    "# C:误差项的惩罚参数c\n",
    "# kernel:核函数\n",
    "svm = SVC(kernel='linear', C=1.0, random_state=0)\n",
    "svm.fit(train_x.head(500), train_y.head(500))\n",
    "\n",
    "svm_rbf = SVC(kernel='rbf', C=2.0, random_state=0)\n",
    "svm_rbf.fit(train_x.head(500), train_y.head(500)) \n"
   ]
  },
  {
   "cell_type": "code",
   "execution_count": 16,
   "metadata": {
    "ExecuteTime": {
     "end_time": "2019-03-19T03:28:42.950184Z",
     "start_time": "2019-03-19T03:28:42.864431Z"
    }
   },
   "outputs": [
    {
     "data": {
      "text/plain": [
       "KNeighborsClassifier(algorithm='auto', leaf_size=30, metric='minkowski',\n",
       "           metric_params=None, n_jobs=None, n_neighbors=5, p=2,\n",
       "           weights='uniform')"
      ]
     },
     "execution_count": 16,
     "metadata": {},
     "output_type": "execute_result"
    }
   ],
   "source": [
    "# KNN\n",
    "from sklearn.neighbors import KNeighborsClassifier\n",
    "# n_neighbors ：分组\n",
    "# p：Power parameter for the Minkowski metric.\n",
    "# metric：the distance metric to use for the tree.\n",
    "knn = KNeighborsClassifier(n_neighbors=5, p=2, metric='minkowski')\n",
    "knn.fit(train_x, train_y)"
   ]
  },
  {
   "cell_type": "markdown",
   "metadata": {},
   "source": [
    "### 4.在测试集上进行预测，计算准确度"
   ]
  },
  {
   "cell_type": "code",
   "execution_count": 17,
   "metadata": {
    "ExecuteTime": {
     "end_time": "2019-03-19T03:29:16.441384Z",
     "start_time": "2019-03-19T03:29:13.886715Z"
    }
   },
   "outputs": [
    {
     "name": "stdout",
     "output_type": "stream",
     "text": [
      "LR: 0.93\n",
      "DT: 0.93\n",
      "CART: 0.93\n",
      "SVM: 0.93\n",
      "svm_rbf: 0.93\n",
      "KNN: 0.93\n"
     ]
    }
   ],
   "source": [
    "from sklearn.metrics import accuracy_score\n",
    "# 逻辑回归\n",
    "pred_y_LR = lr.predict(test_x)\n",
    "print('LR: %.2f' % accuracy_score(test_y, pred_y_LR))\n",
    "\n",
    "# 决策树\n",
    "pred_y_DT = tree.predict(test_x)\n",
    "print('DT: %.2f' % accuracy_score(test_y, pred_y_DT))\n",
    "\n",
    "# 决策树CART\n",
    "pred_y_CART = tree_Gini.predict(test_x)\n",
    "print('CART: %.2f' % accuracy_score(test_y, pred_y_CART))\n",
    "\n",
    "\n",
    "# SVM\n",
    "pred_y_SVM = svm.predict(test_x)\n",
    "print('SVM: %.2f' % accuracy_score(test_y, pred_y_SVM))\n",
    "\n",
    "pred_y_SVM_rbf = svm_rbf.predict(test_x)\n",
    "print('svm_rbf: %.2f' % accuracy_score(test_y, pred_y_SVM_rbf))\n",
    "\n",
    "#KNN\n",
    "pred_y_KNN = knn.predict(test_x)\n",
    "print('KNN: %.2f' % accuracy_score(test_y, pred_y_KNN))\n",
    "\n"
   ]
  },
  {
   "cell_type": "markdown",
   "metadata": {},
   "source": [
    "### 5.查看sklearn的官方说明，了解混淆矩阵等评估标准，并对此例进行评估。"
   ]
  },
  {
   "cell_type": "code",
   "execution_count": 18,
   "metadata": {
    "ExecuteTime": {
     "end_time": "2019-03-19T03:29:16.494458Z",
     "start_time": "2019-03-19T03:29:16.444020Z"
    }
   },
   "outputs": [
    {
     "name": "stdout",
     "output_type": "stream",
     "text": [
      "混淆矩阵：\n",
      " [[30389    20]\n",
      " [ 2159    27]]\n"
     ]
    }
   ],
   "source": [
    "# 混淆矩阵是预测值与实际值得交叉情况。列代表预测的数据类别，行代表实际的类别\n",
    "from sklearn.metrics import confusion_matrix\n",
    "from sklearn import metrics\n",
    "\n",
    "matrix = confusion_matrix(test_y, pred_y_LR)\n",
    "TP = matrix[0,0]\n",
    "FP = matrix[0,1]\n",
    "FN = matrix[1,0]\n",
    "TN = matrix[1,1]\n",
    "print('混淆矩阵：\\n',matrix)\n",
    "# 结果中，30318表示预测为正样本并且实际为正样本的数量。第一行第二列表示预测为负样本，实际为正样本的数量是75\n",
    "# 第二行第一列表示实际为负样本预测为正样本的数量是2094，第二行第二列表示实际为负样本预测为负样本的数量为108"
   ]
  },
  {
   "cell_type": "code",
   "execution_count": 19,
   "metadata": {
    "ExecuteTime": {
     "end_time": "2019-03-19T03:29:16.632566Z",
     "start_time": "2019-03-19T03:29:16.496424Z"
    }
   },
   "outputs": [
    {
     "name": "stdout",
     "output_type": "stream",
     "text": [
      "LR:\n",
      "               precision    recall  f1-score   support\n",
      "\n",
      "           0       0.93      1.00      0.97     30409\n",
      "           1       0.57      0.01      0.02      2186\n",
      "\n",
      "   micro avg       0.93      0.93      0.93     32595\n",
      "   macro avg       0.75      0.51      0.49     32595\n",
      "weighted avg       0.91      0.93      0.90     32595\n",
      "\n",
      "DT:\n",
      "               precision    recall  f1-score   support\n",
      "\n",
      "           0       0.94      1.00      0.97     30409\n",
      "           1       0.58      0.08      0.14      2186\n",
      "\n",
      "   micro avg       0.93      0.93      0.93     32595\n",
      "   macro avg       0.76      0.54      0.55     32595\n",
      "weighted avg       0.91      0.93      0.91     32595\n",
      "\n",
      "CART:\n",
      "               precision    recall  f1-score   support\n",
      "\n",
      "           0       0.94      0.99      0.97     30409\n",
      "           1       0.55      0.16      0.25      2186\n",
      "\n",
      "   micro avg       0.93      0.93      0.93     32595\n",
      "   macro avg       0.75      0.58      0.61     32595\n",
      "weighted avg       0.92      0.93      0.92     32595\n",
      "\n",
      "SVM:\n",
      "               precision    recall  f1-score   support\n",
      "\n",
      "           0       0.94      0.99      0.96     30409\n",
      "           1       0.27      0.06      0.09      2186\n",
      "\n",
      "   micro avg       0.93      0.93      0.93     32595\n",
      "   macro avg       0.61      0.52      0.53     32595\n",
      "weighted avg       0.89      0.93      0.90     32595\n",
      "\n",
      "SVM_rbf:\n",
      "               precision    recall  f1-score   support\n",
      "\n",
      "           0       0.93      1.00      0.97     30409\n",
      "           1       0.17      0.00      0.00      2186\n",
      "\n",
      "   micro avg       0.93      0.93      0.93     32595\n",
      "   macro avg       0.55      0.50      0.48     32595\n",
      "weighted avg       0.88      0.93      0.90     32595\n",
      "\n",
      "KNN:\n",
      "               precision    recall  f1-score   support\n",
      "\n",
      "           0       0.93      1.00      0.96     30409\n",
      "           1       0.34      0.02      0.03      2186\n",
      "\n",
      "   micro avg       0.93      0.93      0.93     32595\n",
      "   macro avg       0.64      0.51      0.50     32595\n",
      "weighted avg       0.89      0.93      0.90     32595\n",
      "\n"
     ]
    }
   ],
   "source": [
    "from sklearn.metrics import classification_report\n",
    "print(\"LR:\\n\",classification_report(test_y, pred_y_LR))\n",
    "print(\"DT:\\n\",classification_report(test_y, pred_y_DT))\n",
    "\n",
    "print(\"CART:\\n\",classification_report(test_y, pred_y_CART))\n",
    "\n",
    "print(\"SVM:\\n\",classification_report(test_y, pred_y_SVM))\n",
    "\n",
    "print(\"SVM_rbf:\\n\",classification_report(test_y, pred_y_SVM_rbf))\n",
    "\n",
    "print(\"KNN:\\n\",classification_report(test_y, pred_y_KNN))\n",
    "\n"
   ]
  },
  {
   "cell_type": "markdown",
   "metadata": {},
   "source": [
    "### 6.银行在某些情形下会有更严格的要求，因为fraud带来的后果通常比较严重，一般我们会调整模型的标准。   \n",
    "比如在logistic regression当中，一般我们的概率判定边界为0.5，但是我们可以把阈值设定低一些，来提高模型的“敏感度”   \n",
    "试试看把阈值设定为0.3，再看看这个时候的混淆矩阵等评估指标。"
   ]
  },
  {
   "cell_type": "code",
   "execution_count": 20,
   "metadata": {
    "ExecuteTime": {
     "end_time": "2019-03-19T03:29:22.615864Z",
     "start_time": "2019-03-19T03:29:22.585810Z"
    }
   },
   "outputs": [
    {
     "name": "stdout",
     "output_type": "stream",
     "text": [
      "thredhold = 0.3 LR:\n",
      "               precision    recall  f1-score   support\n",
      "\n",
      "           0       0.93      1.00      0.97     30409\n",
      "           1       0.57      0.01      0.02      2186\n",
      "\n",
      "   micro avg       0.93      0.93      0.93     32595\n",
      "   macro avg       0.75      0.51      0.49     32595\n",
      "weighted avg       0.91      0.93      0.90     32595\n",
      "\n"
     ]
    }
   ],
   "source": [
    "from sklearn.linear_model import LogisticRegression\n",
    "\n",
    "lr_proba = lr.predict_proba(test_x)\n",
    "proba = lr_proba[:,1] > 0.3\n",
    "print(\"thredhold = 0.3 LR:\\n\",classification_report(test_y, proba))"
   ]
  },
  {
   "cell_type": "code",
   "execution_count": 21,
   "metadata": {
    "ExecuteTime": {
     "end_time": "2019-03-19T03:29:23.420209Z",
     "start_time": "2019-03-19T03:29:23.389774Z"
    }
   },
   "outputs": [
    {
     "name": "stdout",
     "output_type": "stream",
     "text": [
      "thredhold = 0.3 DT:\n",
      "               precision    recall  f1-score   support\n",
      "\n",
      "           0       0.95      0.97      0.96     30409\n",
      "           1       0.46      0.30      0.36      2186\n",
      "\n",
      "   micro avg       0.93      0.93      0.93     32595\n",
      "   macro avg       0.71      0.64      0.66     32595\n",
      "weighted avg       0.92      0.93      0.92     32595\n",
      "\n"
     ]
    }
   ],
   "source": [
    "tree_proba = tree.predict_proba(test_x)\n",
    "tree_proba = tree_proba[:,1] > 0.3\n",
    "print(\"thredhold = 0.3 DT:\\n\",classification_report(test_y, tree_proba))"
   ]
  },
  {
   "cell_type": "markdown",
   "metadata": {},
   "source": [
    "### 7.尝试对不同特征的重要度进行排序，通过特征选择的方式，对特征进行筛选。并重新建模，观察此时的模型准确率等评估指标。"
   ]
  },
  {
   "cell_type": "code",
   "execution_count": 22,
   "metadata": {
    "ExecuteTime": {
     "end_time": "2019-03-19T03:29:26.646190Z",
     "start_time": "2019-03-19T03:29:26.615712Z"
    }
   },
   "outputs": [
    {
     "name": "stdout",
     "output_type": "stream",
     "text": [
      "特征得分： [4.26276633e-01 9.15647945e+02 1.16467766e+03 2.66510126e+02\n",
      " 3.03248269e+01 1.25169432e+02 9.84285757e+02 7.11145390e+01\n",
      " 6.88071899e+02 1.77661286e+02]\n",
      "筛选前的维度： (76053, 10)\n",
      "筛选后的维度： (76053, 7)\n"
     ]
    },
    {
     "data": {
      "text/plain": [
       "array([0, 4, 7, 5, 9, 3, 8, 1, 6, 2])"
      ]
     },
     "execution_count": 22,
     "metadata": {},
     "output_type": "execute_result"
    }
   ],
   "source": [
    "# filter \n",
    "from sklearn.feature_selection import SelectPercentile\n",
    "import numpy as np\n",
    "select = SelectPercentile(percentile=70)\n",
    "select.fit(train_x, train_y)\n",
    "# transform training set:\n",
    "X_train_selected = select.transform(train_x)\n",
    "print('特征得分：',select.scores_)\n",
    "print('筛选前的维度：',train_x.shape)\n",
    "print('筛选后的维度：',X_train_selected.shape)\n",
    "np.argsort(select.scores_)"
   ]
  },
  {
   "cell_type": "code",
   "execution_count": 23,
   "metadata": {
    "ExecuteTime": {
     "end_time": "2019-03-19T03:29:28.108561Z",
     "start_time": "2019-03-19T03:29:27.733799Z"
    }
   },
   "outputs": [
    {
     "name": "stderr",
     "output_type": "stream",
     "text": [
      "/usr/local/lib/python3.5/dist-packages/sklearn/linear_model/logistic.py:433: FutureWarning: Default solver will be changed to 'lbfgs' in 0.22. Specify a solver to silence this warning.\n",
      "  FutureWarning)\n"
     ]
    },
    {
     "name": "stdout",
     "output_type": "stream",
     "text": [
      "LR:\n",
      "               precision    recall  f1-score   support\n",
      "\n",
      "           0       1.00      0.00      0.00     30409\n",
      "           1       0.07      1.00      0.13      2186\n",
      "\n",
      "   micro avg       0.07      0.07      0.07     32595\n",
      "   macro avg       0.53      0.50      0.06     32595\n",
      "weighted avg       0.94      0.07      0.01     32595\n",
      "\n"
     ]
    }
   ],
   "source": [
    "# 基于以上筛选，对筛选后的特征进行建模并评估\n",
    "from sklearn.linear_model import LogisticRegression\n",
    "\n",
    "# 整理测试集，手动过滤特征集0, 4, 7, 5, 9, 3, 8\n",
    "X_test_selected = test_x.drop([test_x.columns[6],test_x.columns[1],test_x.columns[2]],axis=1)\n",
    "    \n",
    "lr_selected = LogisticRegression()\n",
    "\n",
    "lr_selected.fit(X_train_selected,train_y)\n",
    "pred = lr_selected.predict(X_test_selected)\n",
    "print(\"LR:\\n\",classification_report(test_y, pred))"
   ]
  }
 ],
 "metadata": {
  "kernelspec": {
   "display_name": "Python 3",
   "language": "python",
   "name": "python3"
  },
  "language_info": {
   "codemirror_mode": {
    "name": "ipython",
    "version": 3
   },
   "file_extension": ".py",
   "mimetype": "text/x-python",
   "name": "python",
   "nbconvert_exporter": "python",
   "pygments_lexer": "ipython3",
   "version": "3.6.1"
  },
  "toc": {
   "base_numbering": 1,
   "nav_menu": {},
   "number_sections": true,
   "sideBar": true,
   "skip_h1_title": false,
   "title_cell": "Table of Contents",
   "title_sidebar": "Contents",
   "toc_cell": false,
   "toc_position": {},
   "toc_section_display": true,
   "toc_window_display": false
  }
 },
 "nbformat": 4,
 "nbformat_minor": 2
}
